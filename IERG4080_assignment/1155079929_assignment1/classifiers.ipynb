{
 "cells": [
  {
   "cell_type": "code",
   "execution_count": 1,
   "metadata": {},
   "outputs": [],
   "source": [
    "import os\n",
    "import pandas as pd\n",
    "import numpy as np\n",
    "df = pd.DataFrame()\n",
    "for a in ['test','train']:\n",
    "    for b in ['neg','pos']:\n",
    "        files = [f for f in os.listdir('./'+a+'/'+b+'/')]\n",
    "        for f in files:\n",
    "              with open ('./'+a+'/'+b+'/'+f, \"r\") as myfile:\n",
    "                    df = df.append({'label':b, 'detail':myfile.read()}, ignore_index=True)"
   ]
  },
  {
   "cell_type": "code",
   "execution_count": 2,
   "metadata": {},
   "outputs": [
    {
     "name": "stdout",
     "output_type": "stream",
     "text": [
      "(15095, 2)\n",
      "7495 7600\n",
      "(34905, 2)\n",
      "17505 17400\n"
     ]
    }
   ],
   "source": [
    "seperate = np.random.rand(len(df)) >= 0.3\n",
    "test = df[seperate]\n",
    "train = df[~seperate]\n",
    "print(train.shape)\n",
    "print(len(train[train['label']=='pos']),len(train[train['label']=='neg']))\n",
    "print(test.shape)\n",
    "print(len(test[test['label']=='pos']),len(test[test['label']=='neg']))"
   ]
  },
  {
   "cell_type": "code",
   "execution_count": 4,
   "metadata": {},
   "outputs": [
    {
     "name": "stdout",
     "output_type": "stream",
     "text": [
      "             precision    recall  f1-score   support\n",
      "\n",
      "        neg       0.82      0.88      0.85     17400\n",
      "        pos       0.87      0.80      0.83     17505\n",
      "\n",
      "avg / total       0.84      0.84      0.84     34905\n",
      "\n",
      "             precision    recall  f1-score   support\n",
      "\n",
      "        neg       0.82      0.91      0.86     17400\n",
      "        pos       0.90      0.80      0.84     17505\n",
      "\n",
      "avg / total       0.86      0.85      0.85     34905\n",
      "\n"
     ]
    }
   ],
   "source": [
    "from sklearn.feature_extraction.text import CountVectorizer,TfidfTransformer,TfidfVectorizer\n",
    "from sklearn.naive_bayes import MultinomialNB\n",
    "from sklearn.pipeline import Pipeline\n",
    "from sklearn import metrics\n",
    "\n",
    "text_clf = Pipeline([('vect', CountVectorizer()),('clf', MultinomialNB()),])\n",
    "text_clf.fit(train['detail'], train['label'])\n",
    "print(metrics.classification_report(test['label'], text_clf.predict(test['detail'])))\n",
    "\n",
    "text_clf = Pipeline([('tfidf', TfidfVectorizer()),('clf', MultinomialNB()),])\n",
    "text_clf.fit(train['detail'], train['label'])\n",
    "print(metrics.classification_report(test['label'], text_clf.predict(test['detail'])))"
   ]
  },
  {
   "cell_type": "code",
   "execution_count": 5,
   "metadata": {},
   "outputs": [
    {
     "name": "stdout",
     "output_type": "stream",
     "text": [
      "             precision    recall  f1-score   support\n",
      "\n",
      "        neg       0.88      0.87      0.88     17400\n",
      "        pos       0.87      0.88      0.88     17505\n",
      "\n",
      "avg / total       0.88      0.88      0.88     34905\n",
      "\n",
      "             precision    recall  f1-score   support\n",
      "\n",
      "        neg       0.89      0.87      0.88     17400\n",
      "        pos       0.88      0.89      0.88     17505\n",
      "\n",
      "avg / total       0.88      0.88      0.88     34905\n",
      "\n"
     ]
    }
   ],
   "source": [
    "from sklearn.linear_model import LogisticRegression\n",
    "text_clf = Pipeline([('vect', CountVectorizer()),('clf', LogisticRegression()),])\n",
    "text_clf.fit(train['detail'], train['label'])\n",
    "print(metrics.classification_report(test['label'], text_clf.predict(test['detail'])))\n",
    "\n",
    "text_clf = Pipeline([('tfidf', TfidfVectorizer()),('clf', LogisticRegression()),])\n",
    "text_clf.fit(train['detail'], train['label'])\n",
    "print(metrics.classification_report(test['label'], text_clf.predict(test['detail'])))"
   ]
  },
  {
   "cell_type": "code",
   "execution_count": 6,
   "metadata": {},
   "outputs": [
    {
     "name": "stdout",
     "output_type": "stream",
     "text": [
      "             precision    recall  f1-score   support\n",
      "\n",
      "        neg       0.86      0.90      0.88     17400\n",
      "        pos       0.90      0.85      0.88     17505\n",
      "\n",
      "avg / total       0.88      0.88      0.88     34905\n",
      "\n",
      "             precision    recall  f1-score   support\n",
      "\n",
      "        neg       0.85      0.92      0.88     17400\n",
      "        pos       0.92      0.83      0.87     17505\n",
      "\n",
      "avg / total       0.88      0.88      0.88     34905\n",
      "\n",
      "             precision    recall  f1-score   support\n",
      "\n",
      "        neg       0.88      0.86      0.87     17400\n",
      "        pos       0.87      0.88      0.87     17505\n",
      "\n",
      "avg / total       0.87      0.87      0.87     34905\n",
      "\n",
      "             precision    recall  f1-score   support\n",
      "\n",
      "        neg       0.87      0.86      0.87     17400\n",
      "        pos       0.86      0.88      0.87     17505\n",
      "\n",
      "avg / total       0.87      0.87      0.87     34905\n",
      "\n"
     ]
    }
   ],
   "source": [
    "text_clf = Pipeline([('vect', CountVectorizer(ngram_range=(2,2))),('clf', MultinomialNB()),])\n",
    "text_clf.fit(train['detail'], train['label'])\n",
    "print(metrics.classification_report(test['label'], text_clf.predict(test['detail'])))\n",
    "\n",
    "text_clf = Pipeline([('tfidf', TfidfVectorizer(ngram_range=(2,2))),('clf', MultinomialNB()),])\n",
    "text_clf.fit(train['detail'], train['label'])\n",
    "print(metrics.classification_report(test['label'], text_clf.predict(test['detail'])))\n",
    "\n",
    "text_clf = Pipeline([('vect', CountVectorizer(ngram_range=(2,2))),('clf', LogisticRegression()),])\n",
    "text_clf.fit(train['detail'], train['label'])\n",
    "print(metrics.classification_report(test['label'], text_clf.predict(test['detail'])))\n",
    "\n",
    "text_clf = Pipeline([('tfidf', TfidfVectorizer(ngram_range=(2,2))),('clf', LogisticRegression()),])\n",
    "text_clf.fit(train['detail'], train['label'])\n",
    "print(metrics.classification_report(test['label'], text_clf.predict(test['detail'])))"
   ]
  },
  {
   "cell_type": "code",
   "execution_count": 11,
   "metadata": {},
   "outputs": [
    {
     "name": "stdout",
     "output_type": "stream",
     "text": [
      "precision: 0.8755479157713795 recall: 0.8755479157713795\n"
     ]
    }
   ],
   "source": [
    "from fastText import train_supervised \n",
    "with open('train.txt', 'a') as the_file:\n",
    "    for index, row in train.iterrows():\n",
    "        the_file.write(\"__label__{0} {1}\\n\".format(row['label'],row['detail']))\n",
    "model = train_supervised(input=\"train.txt\")\n",
    "with open('test.txt', 'a') as the_file:\n",
    "    for index, row in test.iterrows():\n",
    "        the_file.write(\"__label__{0} {1}\\n\".format(row['label'],row['detail']))\n",
    "print('precision:',model.test('test.txt')[1],'recall:',model.test('test.txt')[2])"
   ]
  },
  {
   "cell_type": "code",
   "execution_count": 12,
   "metadata": {},
   "outputs": [
    {
     "data": {
      "text/plain": [
       "['model.pkl']"
      ]
     },
     "execution_count": 12,
     "metadata": {},
     "output_type": "execute_result"
    }
   ],
   "source": [
    "from sklearn.externals import joblib\n",
    "text_clf = Pipeline([('tfidf', TfidfVectorizer()),('clf', LogisticRegression()),])\n",
    "text_clf.fit(train['detail'], train['label'])\n",
    "joblib.dump(text_clf, 'model.pkl')"
   ]
  },
  {
   "cell_type": "code",
   "execution_count": null,
   "metadata": {},
   "outputs": [],
   "source": []
  }
 ],
 "metadata": {
  "kernelspec": {
   "display_name": "Python 3",
   "language": "python",
   "name": "python3"
  },
  "language_info": {
   "codemirror_mode": {
    "name": "ipython",
    "version": 3
   },
   "file_extension": ".py",
   "mimetype": "text/x-python",
   "name": "python",
   "nbconvert_exporter": "python",
   "pygments_lexer": "ipython3",
   "version": "3.6.3"
  }
 },
 "nbformat": 4,
 "nbformat_minor": 2
}
